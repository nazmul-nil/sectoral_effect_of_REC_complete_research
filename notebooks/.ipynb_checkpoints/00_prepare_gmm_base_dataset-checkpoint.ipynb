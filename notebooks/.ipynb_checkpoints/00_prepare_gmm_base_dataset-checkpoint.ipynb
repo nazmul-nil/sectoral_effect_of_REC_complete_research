{
 "cells": [
  {
   "cell_type": "code",
   "execution_count": null,
   "id": "9c1a2d9f-d425-4b5c-8b9d-46ef433b4882",
   "metadata": {},
   "outputs": [],
   "source": [
    "import pandas as pd\n",
    "\n",
    "# Load enhanced dataset\n",
    "df = pd.read_csv(\"../datasets/enhanced_growth_rates_emissions_energy_prod_income_level_country_df.csv\")\n",
    "\n",
    "# Focus on key GMM-related indicators\n",
    "key_series = [\n",
    "    'Agriculture, forestry, and fishing, value added (annual % growth)',\n",
    "    'Industry (including construction), value added (annual % growth)',\n",
    "    'Services, value added (annual % growth)',\n",
    "    'Renewable energy consumption (% of total final energy consumption)',\n",
    "    'Energy intensity level of primary energy (MJ/$2017 PPP GDP)',\n",
    "    'Access to electricity (% of population)',\n",
    "    'PM2.5 air pollution, mean annual exposure (micrograms per cubic meter)',\n",
    "    'GDP growth (annual %)'\n",
    "]\n",
    "\n",
    "df_gmm_base = df[df[\"Series Name\"].isin(key_series)].copy()\n",
    "\n",
    "# Pivot dataset: rows = (country, year), columns = indicator values\n",
    "df_panel = df_gmm_base.melt(\n",
    "    id_vars=[\"Country Name\", \"Country Code\", \"Income Level\", \"Series Name\"],\n",
    "    var_name=\"year\",\n",
    "    value_name=\"value\"\n",
    ")\n",
    "\n",
    "# Convert year to numeric\n",
    "df_panel[\"year\"] = df_panel[\"year\"].astype(str).str.extract(r'(\\d{4})').astype(int)\n",
    "\n",
    "# Pivot to wide format: 1 row per (Country, year), columns = indicators\n",
    "df_panel = df_panel.pivot_table(\n",
    "    index=[\"Country Name\", \"Country Code\", \"Income Level\", \"year\"],\n",
    "    columns=\"Series Name\",\n",
    "    values=\"value\"\n",
    ").reset_index()\n",
    "\n",
    "# Rename key columns for simplicity\n",
    "rename_map = {\n",
    "    'Agriculture, forestry, and fishing, value added (annual % growth)': 'AgriGrowth',\n",
    "    'Industry (including construction), value added (annual % growth)': 'IndGrowth',\n",
    "    'Services, value added (annual % growth)': 'ServGrowth',\n",
    "    'Renewable energy consumption (% of total final energy consumption)': 'REC',\n",
    "    'Energy intensity level of primary energy (MJ/$2017 PPP GDP)': 'EI',\n",
    "    'Access to electricity (% of population)': 'AccessElec',\n",
    "    'PM2.5 air pollution, mean annual exposure (micrograms per cubic meter)': 'PM2.5',\n",
    "    'GDP growth (annual %)': 'GDPgrowth'\n",
    "}\n",
    "\n",
    "df_panel.rename(columns=rename_map, inplace=True)\n",
    "\n",
    "# Save cleaned GMM base panel\n",
    "df_panel.to_csv(\"../datasets/growth_rates_energy_gmm_base.csv\", index=False)\n",
    "print(\"✅ Saved cleaned GMM base panel to: growth_rates_energy_gmm_base.csv\")\n"
   ]
  }
 ],
 "metadata": {
  "kernelspec": {
   "display_name": "Python [conda env:base] *",
   "language": "python",
   "name": "conda-base-py"
  },
  "language_info": {
   "codemirror_mode": {
    "name": "ipython",
    "version": 3
   },
   "file_extension": ".py",
   "mimetype": "text/x-python",
   "name": "python",
   "nbconvert_exporter": "python",
   "pygments_lexer": "ipython3",
   "version": "3.12.7"
  }
 },
 "nbformat": 4,
 "nbformat_minor": 5
}
